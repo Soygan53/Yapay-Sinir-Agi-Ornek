{
  "nbformat": 4,
  "nbformat_minor": 0,
  "metadata": {
    "colab": {
      "provenance": []
    },
    "kernelspec": {
      "name": "python3",
      "display_name": "Python 3"
    },
    "language_info": {
      "name": "python"
    },
    "accelerator": "GPU",
    "gpuClass": "standard"
  },
  "cells": [
    {
      "cell_type": "code",
      "execution_count": 1,
      "metadata": {
        "id": "HluRnRzl-VYY"
      },
      "outputs": [],
      "source": [
        "import keras\n",
        "import numpy as np\n",
        "\n",
        "model = keras.Sequential()\n",
        "model.add(keras.layers.Dense(units=3, input_shape=[6]))\n",
        "model.add(keras.layers.Dense(units=1))"
      ]
    },
    {
      "cell_type": "code",
      "source": [
        "model.compile(optimizer=\"sgd\", loss=\"mean_squared_error\", metrics=[\"accuracy\"])"
      ],
      "metadata": {
        "id": "uKfKkjcD-i0s"
      },
      "execution_count": 2,
      "outputs": []
    },
    {
      "cell_type": "code",
      "source": [
        "Xtrain = np.array([[0,0,1,0,1,0], [0,1,0,1,0,1], [0,0,1,1,0,0],\n",
        "                   [1,1,0,1,0,0], [1,0,1,1,1,0], [1,1,1,0,1,1]], dtype = int)\n",
        "Ytrain = np.array([[1],[0],[1],[1],[1],[0]], dtype = int)"
      ],
      "metadata": {
        "id": "Ji3TxcDY-jsN"
      },
      "execution_count": 3,
      "outputs": []
    },
    {
      "cell_type": "code",
      "source": [
        "model.fit(Xtrain, Ytrain, epochs=2000, verbose=0)"
      ],
      "metadata": {
        "colab": {
          "base_uri": "https://localhost:8080/"
        },
        "id": "BIlBP44Z-ovV",
        "outputId": "9d9bdc2a-9c0f-402b-8a86-509613d57507"
      },
      "execution_count": 4,
      "outputs": [
        {
          "output_type": "execute_result",
          "data": {
            "text/plain": [
              "<keras.callbacks.History at 0x7fb8d04e46a0>"
            ]
          },
          "metadata": {},
          "execution_count": 4
        }
      ]
    },
    {
      "cell_type": "code",
      "source": [
        "def tahmin(Xtest):\n",
        "    Predicted_model = model.predict(Xtest)\n",
        "    print(Predicted_model)\n",
        "    if Predicted_model > 0.5:\n",
        "        print(\"Dışarıya gezmeye çıkar\\n\")\n",
        "    else:\n",
        "        print(\"Dışarıya gezmeye çıkmaz\\n\")"
      ],
      "metadata": {
        "id": "4CETeDoG-otT"
      },
      "execution_count": 5,
      "outputs": []
    },
    {
      "cell_type": "code",
      "source": [
        "ilk_deneme = np.array([[1,1,1,1,1,0]])\n",
        "ikinci_deneme = np.array([[1,0,1,1,1,1]])\n",
        "ucuncu_deneme = np.array([[0,1,0,1,1,0]])\n",
        "tahmin(ilk_deneme)\n",
        "tahmin(ikinci_deneme)\n",
        "tahmin(ucuncu_deneme)"
      ],
      "metadata": {
        "colab": {
          "base_uri": "https://localhost:8080/"
        },
        "id": "0dY2GPlQ-wZv",
        "outputId": "72140fd4-da65-48b0-f48d-daea38562bdd"
      },
      "execution_count": 6,
      "outputs": [
        {
          "output_type": "stream",
          "name": "stdout",
          "text": [
            "1/1 [==============================] - 0s 72ms/step\n",
            "[[0.8353779]]\n",
            "Dışarıya gezmeye çıkar\n",
            "\n",
            "1/1 [==============================] - 0s 13ms/step\n",
            "[[0.08702773]]\n",
            "Dışarıya gezmeye çıkmaz\n",
            "\n",
            "1/1 [==============================] - 0s 13ms/step\n",
            "[[0.8243337]]\n",
            "Dışarıya gezmeye çıkar\n",
            "\n"
          ]
        }
      ]
    }
  ]
}